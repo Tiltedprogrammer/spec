{
 "cells": [
  {
   "cell_type": "code",
   "execution_count": 12,
   "metadata": {},
   "outputs": [
    {
     "name": "stdout",
     "output_type": "stream",
     "text": [
      "Test passed\n"
     ]
    }
   ],
   "source": [
    "import string\n",
    "import itertools\n",
    "import os\n",
    "\n",
    "\n",
    "def match(pattern,string):\n",
    "    res = [-1 for i in range(0,len(string))]\n",
    "    for i in range(len(string)-len(pattern)+1):\n",
    "        for j in range(0,len(pattern)):\n",
    "            if string[i+j] != pattern[j]:\n",
    "                break\n",
    "            elif j == len(pattern)-1:\n",
    "                res[i] = 1\n",
    "    return ''.join(str(e) for e in res)\n",
    "\n",
    "def match2(pattern, string):\n",
    "    command = f\"~/specialization/spec/build/src/fun {pattern} {string} >> output.txt\"\n",
    "    os.system(command)\n",
    "    with open(\"output.txt\") as f:\n",
    "        l = f.readlines()\n",
    "        return l[-1][:-1]\n",
    "            \n",
    "                \n",
    "\n",
    "def generate_strings(length=3):\n",
    "#     chars = string.ascii_letters + string.digits  # \"abcdefghijklmnopqrstuvwxyzABCDEFGHIJKLMNOPQRSTUVWXYZ0123456789\"\n",
    "    chars = 'abcd'\n",
    "    for item in itertools.product(chars, repeat=length):\n",
    "        yield \"\".join(item)\n",
    "       \n",
    "# cartesian product of input iterables\n",
    "# strings = [''.join(x) for x in itertools.product('abcdefghijklmnopqrstuvwxyz', repeat=20)]\n",
    "# patterns = [''.join(x) for x in itertools.product('abcdefghijklmnopqrstuvwxyz', repeat=6)]\n",
    "\n",
    "strings = generate_strings(15)\n",
    "patterns = generate_strings(5)\n",
    "\n",
    "def test():\n",
    "    for i in strings:\n",
    "        for j in patterns:\n",
    "            res1 = match(j,i)\n",
    "            res2 = match2(j,i)\n",
    "            if(res1 == res2):\n",
    "                continue\n",
    "            else:\n",
    "                error = f\"Test failed on: pattern = {j} string = {i}\"\n",
    "                print(error)\n",
    "                return\n",
    "    print(\"Test passed\")\n",
    "\n",
    "test()\n",
    "\n",
    "\n"
   ]
  }
 ],
 "metadata": {
  "kernelspec": {
   "display_name": "Python 3",
   "language": "python",
   "name": "python3"
  },
  "language_info": {
   "codemirror_mode": {
    "name": "ipython",
    "version": 3
   },
   "file_extension": ".py",
   "mimetype": "text/x-python",
   "name": "python",
   "nbconvert_exporter": "python",
   "pygments_lexer": "ipython3",
   "version": "3.6.8"
  }
 },
 "nbformat": 4,
 "nbformat_minor": 2
}
