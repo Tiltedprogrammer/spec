{
 "cells": [
  {
   "cell_type": "code",
   "execution_count": null,
   "metadata": {},
   "outputs": [],
   "source": [
    "from functools import reduce\n",
    "from IPython.display import Image\n",
    "%matplotlib notebook\n",
    "import matplotlib.pyplot as plt\n",
    "from matplotlib.pyplot import imshow\n",
    "\n",
    "def red(test_list):\n",
    "    res = [0 for i in range(0,len(test_list[0][1]))];\n",
    "    for i in test_list[1:]:\n",
    "        for j in range(0,len(i[1])):\n",
    "            res[j]+=int(i[1][j])\n",
    "    return list(map(lambda x : x / 49,res))\n",
    "\n",
    "def build_set(test_list,size):\n",
    "    res = [[] for i in range(0,size)]\n",
    "    for i in test_list:\n",
    "        data = red(i)\n",
    "        for j in range(0,size):\n",
    "            res[j].append(data[j])\n",
    "    return res      \n",
    "\n",
    "plt.ylabel('time in ms')\n",
    "plt.xlabel('length of subject string')\n",
    "\n",
    "plt.legend()\n",
    "plt.show()\n",
    "plt.savefig('sample_shared3.10.png')"
   ]
  }
 ],
 "metadata": {
  "kernelspec": {
   "display_name": "Python 3",
   "language": "python",
   "name": "python3"
  },
  "language_info": {
   "codemirror_mode": {
    "name": "ipython",
    "version": 3
   },
   "file_extension": ".py",
   "mimetype": "text/x-python",
   "name": "python",
   "nbconvert_exporter": "python",
   "pygments_lexer": "ipython3",
   "version": "3.6.8"
  }
 },
 "nbformat": 4,
 "nbformat_minor": 2
}
