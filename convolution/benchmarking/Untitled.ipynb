{
 "cells": [
  {
   "cell_type": "code",
   "execution_count": 19,
   "metadata": {},
   "outputs": [
    {
     "name": "stdout",
     "output_type": "stream",
     "text": [
      "[[41 44 49 ... 67 64 55]\n",
      " [44 48 53 ... 73 69 59]\n",
      " [49 53 60 ... 81 77 66]\n",
      " ...\n",
      " [51 54 59 ... 82 77 66]\n",
      " [47 51 56 ... 77 72 62]\n",
      " [40 43 49 ... 66 62 52]]\n",
      "[[41 44 49 ... 67 64 55]\n",
      " [44 48 53 ... 73 69 59]\n",
      " [49 53 60 ... 81 77 66]\n",
      " ...\n",
      " [51 54 59 ... 82 77 66]\n",
      " [47 51 56 ... 77 72 62]\n",
      " [40 43 49 ... 66 62 52]]\n",
      "False\n"
     ]
    }
   ],
   "source": [
    "from PIL import Image, ImageFilter\n",
    "import numpy as np\n",
    "from scipy import ndimage\n",
    "from matplotlib import pyplot as plt\n",
    "\n",
    "try:\n",
    "    # загружаем изображение с жесткого диска\n",
    "#     original = Image.open(\"../images/tussaint.jpg\").convert('L')\n",
    "#     original = Image.open(\"../images/graytussaint100.jpg\")\n",
    "    original = Image.open(\"../../build/convolution/cpu-convolved.jpg\")\n",
    "    cimg = Image.open(\"../../build/convolution/cuda-convolved.jpg\")\n",
    "except FileNotFoundError:\n",
    "    print(\"Файл не найден\")\n",
    "\n",
    "# original.save('graytussaint.jpg')\n",
    "pic1 = np.array(original)\n",
    "pic2 = np.array(cimg)\n",
    "# gaus_kernel = np.array(([1,2,1],[2,4,2],[1,2,1]))*(1/16)\n",
    "# edge_kernel = np.array(([1,0,-1],[0,0,0],[-1,0,1]))\n",
    "\n",
    "#Test convolution between C++ and Python\\\n",
    "print(pic1)\n",
    "print(pic2)\n",
    "print(np.array_equal(pic1,pic2))\n",
    "# row = np.array([11, 0, 4, 10, 9, 14, 6, 14, 15, 7, 10, 11, 15, 2, 2, 14, 9])\n",
    "# print(np.outer(row,row))\n",
    "# print(pic2)\n",
    "# convolved = ndimage.convolve(original,kernel,mode='constant',cval=0.0)\n",
    "# convolved_img = Image.fromarray(convolved)\n",
    "# cimg = np.array(convolved_img)\n",
    "# print(np.array(Image.open(\"graytussaint-blured.jpg\")))\n",
    "# print(convolved)\n",
    "# print(cimg)\n",
    "# convolved_img.save('gtblured.jpg',quality=100)\n",
    "# original.save('graytussaint100.jpg',quality=100)\n",
    "# print(np.array(Image.open(\"gtblured.jpg\")))\n",
    "# print(np.array(Image.open(\"gtblured.jpg\")))\n",
    "# 11 0 4 10 9 14 6 14 15 7 10 11 15 2 2 14 9 = 153"
   ]
  }
 ],
 "metadata": {
  "kernelspec": {
   "display_name": "Python 3",
   "language": "python",
   "name": "python3"
  },
  "language_info": {
   "codemirror_mode": {
    "name": "ipython",
    "version": 3
   },
   "file_extension": ".py",
   "mimetype": "text/x-python",
   "name": "python",
   "nbconvert_exporter": "python",
   "pygments_lexer": "ipython3",
   "version": "3.6.9"
  }
 },
 "nbformat": 4,
 "nbformat_minor": 4
}
