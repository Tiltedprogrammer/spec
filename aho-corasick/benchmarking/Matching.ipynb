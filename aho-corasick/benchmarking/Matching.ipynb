{
 "cells": [
  {
   "cell_type": "code",
   "execution_count": 41,
   "metadata": {},
   "outputs": [
    {
     "name": "stdout",
     "output_type": "stream",
     "text": [
      "318\n"
     ]
    }
   ],
   "source": [
    "import requests\n",
    "import json\n",
    "from bs4 import BeautifulSoup\n",
    "\n",
    "\n",
    "#Scrap file signatures from @https://filesignatures.net/index.php?page=all@\n",
    "# sigs = []\n",
    "\n",
    "# for i in range(1,19):\n",
    "#     page = requests.get(f\"https://filesignatures.net/index.php?page=all&currentpage={i}&order=EXT&alpha=All\")\n",
    "#     soup = BeautifulSoup(page.content, 'html.parser')\n",
    "#     results = soup.find_all(id='results')\n",
    "#     for r in results:\n",
    "#         if (\"SIG\" in r.find('a')['href']):\n",
    "#             sigs.append(r.find('a').text.strip())\n",
    "# raw_pats = list(filter(lambda z : len(z) > 2,list(map(lambda elem : list(map(lambda y : int(y,16),(list(filter(lambda x : x != '00' and x != '0A',elem.split()))))),sigs))))\n",
    "# print(bytes(list(map(lambda x : int(x,16),sigs[0].split()))))\n",
    "# with open('data/raw_patterns_scrapped.json','w') as rwp:\n",
    "#     rwp.write(json.dumps(raw_pats))\n",
    "# print()\n",
    "\n",
    "patterns = []\n",
    "with open('data/raw_patterns_scrapped.json','rb') as rp:\n",
    "    source = rp.read()\n",
    "    patterns = list(set(map(lambda x : bytes(x),json.loads(source))))\n",
    "print(len(patterns))"
   ]
  }
 ],
 "metadata": {
  "kernelspec": {
   "display_name": "Python 3",
   "language": "python",
   "name": "python3"
  },
  "language_info": {
   "codemirror_mode": {
    "name": "ipython",
    "version": 3
   },
   "file_extension": ".py",
   "mimetype": "text/x-python",
   "name": "python",
   "nbconvert_exporter": "python",
   "pygments_lexer": "ipython3",
   "version": "3.6.9"
  }
 },
 "nbformat": 4,
 "nbformat_minor": 4
}
